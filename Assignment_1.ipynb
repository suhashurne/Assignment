{
 "cells": [
  {
   "cell_type": "raw",
   "id": "4c4d24f1-eb4b-43e0-83d6-e224162d9b3b",
   "metadata": {},
   "source": [
    "Q.1) Who Developed Python Programming Language?\n",
    "Ans: Guido van Rossum"
   ]
  },
  {
   "cell_type": "raw",
   "id": "2d226168-f757-41b4-b413-373274bedbc1",
   "metadata": {},
   "source": [
    "Q.2) Which type of Programming does Python Support?\n",
    "Ans: Python is an interpreted programming language, supporting object-oriented, structured, and functional programming."
   ]
  },
  {
   "cell_type": "raw",
   "id": "046d5d1b-1c26-4947-850a-80e28dc70f15",
   "metadata": {},
   "source": [
    "Q.3) Is Python case sensitive when dealing with identifiers?\n",
    "Ans: Yes"
   ]
  },
  {
   "cell_type": "raw",
   "id": "37ebfe8f-2f01-436c-b456-66be650c66e0",
   "metadata": {},
   "source": [
    "Q.4) What is the correct extension of the python file?\n",
    "Ans: .py"
   ]
  },
  {
   "cell_type": "raw",
   "id": "d9de7ec1-4a5e-487a-adca-d078448a11e6",
   "metadata": {},
   "source": [
    "Q.5) Is Pyhton code compiled or interpreated?\n",
    "Ans: No.Python does not need a compiler because it relies on an application (called an interpreter) that compiles and \n",
    "runs the code without storing the machine code being created in a form that you can easily access or distribute."
   ]
  },
  {
   "cell_type": "markdown",
   "id": "449ffbac-521a-47ad-b9fd-328e242c1b19",
   "metadata": {},
   "source": [
    "Q.6) Name a few blocks of code used to define in python language?\n",
    "Ans: Indentation is used to define a block of code in python. Braces {} are used to define a block of code in most programming \n",
    "languages,like C, C++, and Java. But this indentation makes python unique among all programming languages.\n",
    "Ex: "
   ]
  },
  {
   "cell_type": "code",
   "execution_count": 1,
   "id": "b362d768-c3f0-4043-b9cc-47c8f2971421",
   "metadata": {},
   "outputs": [
    {
     "name": "stdout",
     "output_type": "stream",
     "text": [
      "Correct Name !!\n",
      "HI\n"
     ]
    }
   ],
   "source": [
    "name = \"Suhas\"\n",
    "if name == \"Suhas\":\n",
    "    print(\"Correct Name !!\")\n",
    "else : \n",
    "    print(\"Incorrect Name ??\")\n",
    "    \n",
    "print(\"HI\")\n"
   ]
  },
  {
   "cell_type": "raw",
   "id": "f539cf7e-09d2-47d6-b3ec-0eeafabcfd92",
   "metadata": {},
   "source": [
    "Q.7) State a character to give single-line comments in python?\n",
    "Ans: # character"
   ]
  },
  {
   "cell_type": "raw",
   "id": "b2a8064b-e4f1-4328-bb22-875fda1ec10e",
   "metadata": {},
   "source": [
    "Q.8) Mention function which can help us to find the version of python that we are currently working on?\n",
    "Ans: sys.version or python_version()\n"
   ]
  },
  {
   "cell_type": "raw",
   "id": "51147cb0-001c-47dd-abf0-958de3337124",
   "metadata": {},
   "source": [
    "Q.9) Python supports the creation of anoymous function at runtime,using a construt called ____?\n",
    "Ans: lambda"
   ]
  },
  {
   "cell_type": "raw",
   "id": "bf7eecc2-b526-4125-96dc-65b492783e80",
   "metadata": {},
   "source": [
    "Q.10) What does pip stand for python?\n",
    "Ans: preferred installer program\n"
   ]
  },
  {
   "cell_type": "raw",
   "id": "b8cfe294-9965-4477-8643-80710d17fe16",
   "metadata": {},
   "source": [
    "Q.11) Mention a few Built in function in python?\n",
    "Ans: print( ) function,type( ) functioninput( ) function,abs( ) function,pow( ) function,dir( ) function,sorted( ) function,\n",
    "max( ) function.\n"
   ]
  },
  {
   "cell_type": "raw",
   "id": "25001522-1100-431e-82e1-4d4b30225997",
   "metadata": {},
   "source": [
    "Q.12) what is the maximum possible lenth of an identifier in python?\n",
    "Ans: 79 characters"
   ]
  },
  {
   "cell_type": "raw",
   "id": "071df634-b8d2-478a-a881-82cd903c0452",
   "metadata": {},
   "source": [
    "Q.13) What are the benefits of using python?\n",
    "Ans: developing websites and software, task automation, data analysis, and data visualization."
   ]
  },
  {
   "cell_type": "raw",
   "id": "ed92e056-85f5-4e9d-9939-14c174a4b368",
   "metadata": {},
   "source": [
    "Q.14) How is memory managed in python?\n",
    "Ans: Memory in Python is managed by Python private heap space. All Python objects and data structures are located in a private \n",
    "heap. This private heap is taken care of by Python Interpreter itself, and a programmer doesn't have access to this private \n",
    "heap."
   ]
  },
  {
   "cell_type": "raw",
   "id": "0180af5f-ee67-488b-a35d-d7827ea77ea9",
   "metadata": {},
   "source": [
    "Q.15) How to install python on windows and set path variables?\n",
    "Ans:In the section entitled User Variables, double-click on the entry that says Path. Another window will pop up showing a \n",
    "list of paths. Click the New button and paste the path to your Python executable there. Once that's inserted, select your \n",
    "newly added path and click the Move Up button until it's at the top."
   ]
  },
  {
   "cell_type": "raw",
   "id": "a6f8119a-00f9-4b65-9ba4-8f8b495da4cf",
   "metadata": {},
   "source": [
    "Q.16) is identification required in python?\n",
    "Ans:  Each and every object in Python when stored into the memory is being allocated a unique identification number \n",
    "that helps the Python compiler to perform better and utilize memory efficiently. Each object has its own unique \n",
    "identity assigned to it as an integer number which differentiates it from other objects."
   ]
  }
 ],
 "metadata": {
  "kernelspec": {
   "display_name": "Python 3 (ipykernel)",
   "language": "python",
   "name": "python3"
  },
  "language_info": {
   "codemirror_mode": {
    "name": "ipython",
    "version": 3
   },
   "file_extension": ".py",
   "mimetype": "text/x-python",
   "name": "python",
   "nbconvert_exporter": "python",
   "pygments_lexer": "ipython3",
   "version": "3.10.8"
  }
 },
 "nbformat": 4,
 "nbformat_minor": 5
}
